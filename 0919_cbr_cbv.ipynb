{
 "cells": [
  {
   "cell_type": "code",
   "execution_count": 1,
   "metadata": {},
   "outputs": [
    {
     "name": "stdout",
     "output_type": "stream",
     "text": [
      "False\n",
      "True\n"
     ]
    }
   ],
   "source": [
    "#CBV(Call By Value) & CBR(Call By Reference)\n",
    "a = 1000\n",
    "b = 1000\n",
    "print(a is b) # 객체 자체가 같은가(false)\n",
    "print(a == b) # 값이 같은가(true)"
   ]
  },
  {
   "cell_type": "code",
   "execution_count": 2,
   "metadata": {},
   "outputs": [
    {
     "name": "stdout",
     "output_type": "stream",
     "text": [
      "True\n",
      "True\n"
     ]
    }
   ],
   "source": [
    "### 메모리 관리에 의한 예외 결과 ###\n",
    "c = 10\n",
    "d = 10\n",
    "print(c is d) #true\n",
    "print(c == d) #true\n",
    "#자주쓰는 10에 해당하는 값이 이미 메모리에 할당되어있으므로 객체도 같음."
   ]
  }
 ],
 "metadata": {
  "kernelspec": {
   "display_name": "Python 3.9.13 64-bit (microsoft store)",
   "language": "python",
   "name": "python3"
  },
  "language_info": {
   "codemirror_mode": {
    "name": "ipython",
    "version": 3
   },
   "file_extension": ".py",
   "mimetype": "text/x-python",
   "name": "python",
   "nbconvert_exporter": "python",
   "pygments_lexer": "ipython3",
   "version": "3.9.13"
  },
  "orig_nbformat": 4,
  "vscode": {
   "interpreter": {
    "hash": "741b7d6621101bb05dae0cbf174b3678631562aef4dd5328ff5cc32dde07dc34"
   }
  }
 },
 "nbformat": 4,
 "nbformat_minor": 2
}
