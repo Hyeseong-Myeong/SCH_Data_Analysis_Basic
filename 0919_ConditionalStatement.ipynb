{
 "cells": [
  {
   "cell_type": "markdown",
   "metadata": {},
   "source": [
    "if <조건>:\n",
    "    <수행명령1> (4칸 들여쓰기)\n",
    "    <수행명령2>\n",
    "    ...\n",
    "else:\n",
    "    <수행명령1>\n",
    "    <수행명령2>"
   ]
  },
  {
   "cell_type": "code",
   "execution_count": 3,
   "metadata": {},
   "outputs": [
    {
     "name": "stdout",
     "output_type": "stream",
     "text": [
      "1999년생은 24살. 대학생\n"
     ]
    }
   ],
   "source": [
    "year = int(input(\"당신이 태어난 연도를 입력하세요.\"))\n",
    "\n",
    "##### input 값이 년도가 맞는지 에러 처리 코드\n",
    "\n",
    "old = 2022 - year + 1\n",
    "\n",
    "if (old <= 26) and (old >= 20) :\n",
    "    statename = \"대학생\"\n",
    "elif (old < 20) and (old >= 17) :\n",
    "    statename = \"고등학생\"\n",
    "elif (old < 17) and (old >= 14) :\n",
    "    statename = \"중학생\"\n",
    "elif (old < 14) and (old >= 8):\n",
    "    statename = \"초등학생\"\n",
    "else:\n",
    "    statename = \"학생이 아닙니다.\"\n",
    "\n",
    "print(f\"{year}년생은 {old}살. {statename}\")"
   ]
  }
 ],
 "metadata": {
  "kernelspec": {
   "display_name": "Python 3.9.13 64-bit (microsoft store)",
   "language": "python",
   "name": "python3"
  },
  "language_info": {
   "codemirror_mode": {
    "name": "ipython",
    "version": 3
   },
   "file_extension": ".py",
   "mimetype": "text/x-python",
   "name": "python",
   "nbconvert_exporter": "python",
   "pygments_lexer": "ipython3",
   "version": "3.9.13"
  },
  "orig_nbformat": 4,
  "vscode": {
   "interpreter": {
    "hash": "741b7d6621101bb05dae0cbf174b3678631562aef4dd5328ff5cc32dde07dc34"
   }
  }
 },
 "nbformat": 4,
 "nbformat_minor": 2
}
